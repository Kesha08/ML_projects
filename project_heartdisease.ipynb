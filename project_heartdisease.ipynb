import numpy as np #create arrays,like list in python 
import pandas as pd #create dataframes for structured table
hd=pd.read_csv("hd.csv")
hd.info()
<class 'pandas.core.frame.DataFrame'>
RangeIndex: 920 entries, 0 to 919
Data columns (total 16 columns):
 #   Column    Non-Null Count  Dtype  
---  ------    --------------  -----  
 0   id        920 non-null    int64  
 1   age       920 non-null    int64  
 2   sex       920 non-null    object 
 3   dataset   920 non-null    object 
 4   cp        920 non-null    object 
 5   trestbps  861 non-null    float64
 6   chol      890 non-null    float64
 7   fbs       830 non-null    object 
 8   restecg   918 non-null    object 
 9   thalch    865 non-null    float64
 10  exang     865 non-null    object 
 11  oldpeak   858 non-null    float64
 12  slope     611 non-null    object 
 13  ca        309 non-null    float64
 14  thal      434 non-null    object 
 15  num       920 non-null    int64  
dtypes: float64(5), int64(3), object(8)
memory usage: 115.1+ KB
hd.head()
id	age	sex	dataset	cp	trestbps	chol	fbs	restecg	thalch	exang	oldpeak	slope	ca	thal	num
0	1	63	Male	Cleveland	typical angina	145.0	233.0	True	lv hypertrophy	150.0	False	2.3	downsloping	0.0	fixed defect	0
1	2	67	Male	Cleveland	asymptomatic	160.0	286.0	False	lv hypertrophy	108.0	True	1.5	flat	3.0	normal	2
2	3	67	Male	Cleveland	asymptomatic	120.0	229.0	False	lv hypertrophy	129.0	True	2.6	flat	2.0	reversable defect	1
3	4	37	Male	Cleveland	non-anginal	130.0	250.0	False	normal	187.0	False	3.5	downsloping	0.0	normal	0
4	5	41	Female	Cleveland	atypical angina	130.0	204.0	False	lv hypertrophy	172.0	False	1.4	upsloping	0.0	normal	0
hd.groupby("num").mean()
C:\Users\user\AppData\Local\Temp\ipykernel_5156\4245541471.py:1: FutureWarning: The default value of numeric_only in DataFrameGroupBy.mean is deprecated. In a future version, numeric_only will default to False. Either specify numeric_only or select only columns which should be valid for the function.
  hd.groupby("num").mean()
id	age	trestbps	chol	thalch	oldpeak	ca
num							
0	355.257908	50.547445	129.913043	227.905612	148.800512	0.418205	0.278788
1	542.898113	53.528302	132.861111	195.255814	131.035714	1.001200	0.741379
2	554.449541	57.577982	133.613861	143.859813	128.666667	1.353465	1.222222
3	560.467290	59.214953	136.152174	159.716981	120.500000	1.581319	1.459459
4	477.714286	59.214286	138.720000	192.148148	127.846154	2.307692	1.692308
hd.shape
(920, 16)
hd.isnull().sum()
id            0
age           0
sex           0
dataset       0
cp            0
trestbps     59
chol         30
fbs          90
restecg       2
thalch       55
exang        55
oldpeak      62
slope       309
ca          611
thal        486
num           0
dtype: int64
data cleaning

hd=hd.drop(columns=['dataset','id'])
a=hd.trestbps.median()
a
130.0
hd['trestbps'].fillna(a,inplace=True)
b=hd['chol'].mean()
b=round(b,0)
b
199.0
hd["chol"].fillna(b,inplace=True)
c=hd['fbs'].mode().values[0]
c
False
hd['fbs'].fillna(c,inplace=True)
d=hd['restecg'].mode().values[0]
d
'normal'
hd['restecg'].fillna(d,inplace=True)
e=hd['thalch'].mean()
e=round(e,0)
e
138.0
hd['thalch'].fillna(e,inplace=True)#The person's maximum heart rate achieved
f=hd['exang'].mode().values[0]#pain in the chest that comes on with exercise, stress, or other things
f
False
hd['exang'].fillna(f,inplace=True)
g=hd['oldpeak'].mode().values[0]
g
0.0
hd['oldpeak'].fillna(g,inplace=True)
h=hd['slope'].mode().values[0]
h
'flat'
hd['slope'].fillna(h,inplace=True)
j=hd['ca'].median()
j
0.0
hd['ca'].fillna(j,inplace=True)
k=hd['thal'].mode().values[0]#too much iron in their bodies
k
'normal'
hd['thal'].fillna(k,inplace=True)
hd.isnull().sum()
age         0
sex         0
cp          0
trestbps    0
chol        0
fbs         0
restecg     0
thalch      0
exang       0
oldpeak     0
slope       0
ca          0
thal        0
num         0
dtype: int64
hd.describe()
age	trestbps	chol	thalch	oldpeak	ca	num
count	920.000000	920.000000	920.000000	920.000000	920.000000	920.000000	920.000000
mean	53.510870	131.995652	199.126087	137.572826	0.819565	0.227174	0.995652
std	9.424685	18.451300	108.957636	25.138725	1.076582	0.628936	1.142693
min	28.000000	0.000000	0.000000	60.000000	-2.600000	0.000000	0.000000
25%	47.000000	120.000000	177.750000	120.000000	0.000000	0.000000	0.000000
50%	54.000000	130.000000	221.000000	138.000000	0.200000	0.000000	1.000000
75%	60.000000	140.000000	267.000000	156.000000	1.500000	0.000000	2.000000
max	77.000000	200.000000	603.000000	202.000000	6.200000	3.000000	4.000000
hd.head()
age	sex	cp	trestbps	chol	fbs	restecg	thalch	exang	oldpeak	slope	ca	thal	num
0	63	Male	typical angina	145.0	233.0	True	lv hypertrophy	150.0	False	2.3	downsloping	0.0	fixed defect	0
1	67	Male	asymptomatic	160.0	286.0	False	lv hypertrophy	108.0	True	1.5	flat	3.0	normal	2
2	67	Male	asymptomatic	120.0	229.0	False	lv hypertrophy	129.0	True	2.6	flat	2.0	reversable defect	1
3	37	Male	non-anginal	130.0	250.0	False	normal	187.0	False	3.5	downsloping	0.0	normal	0
4	41	Female	atypical angina	130.0	204.0	False	lv hypertrophy	172.0	False	1.4	upsloping	0.0	normal	0
import seaborn as sns
import matplotlib.pyplot as plt
x=hd.age
y=hd.trestbps
plt.scatter(x,y)
plt.xlabel("age")
plt.ylabel("trestbps")
plt.title("age vs trestbps",fontsize=22,color='r')
Text(0.5, 1.0, 'age vs trestbps')

x=hd.age
y=hd.chol
plt.scatter(x,y)
plt.xlabel("age")
plt.ylabel("chol")
plt.title("age vs chol",fontsize=22,color='r')
Text(0.5, 1.0, 'age vs chol')

x=hd.age
y=hd.thalch
plt.scatter(x,y)
plt.xlabel("age")
plt.ylabel("thalch")
plt.title("age vs thalch",fontsize=22,color='r')
Text(0.5, 1.0, 'age vs thalch')

x=hd.age
y=hd.num
plt.bar(x,y)
plt.xlabel("age")
plt.ylabel("num")
plt.title("age vs num",fontsize=22,color='r')
Text(0.5, 1.0, 'age vs num')

sns.scatterplot(data=hd,x='age',y='chol',hue='sex',palette='dark')
<Axes: xlabel='age', ylabel='chol'>

sns.scatterplot(data=hd,x='age',y='thalch')
<Axes: xlabel='age', ylabel='thalch'>

sns.lineplot(data=hd,x='age',y='chol')
<Axes: xlabel='age', ylabel='chol'>

sns.lineplot(data=hd,x='age',y='thalch')
<Axes: xlabel='age', ylabel='thalch'>

sns.countplot(x="num",data=hd)
<Axes: xlabel='num', ylabel='count'>

sns.countplot(x="thal",data=hd)
'''fixed defect : no blood flow in some part of the heart)
Value 2: normal blood flow. 
Value 3: reversible defect (a blood flow is observed but it is not normal)'''
'fixed defect : no blood flow in some part of the heart)\nValue 2: normal blood flow. \nValue 3: reversible defect (a blood flow is observed but it is not normal)'

sns.boxenplot(data=hd,x="num",y="age",hue='sex')
<Axes: xlabel='num', ylabel='age'>

sns.boxenplot(data=hd,x="sex",y="chol",hue='fbs')
<Axes: xlabel='sex', ylabel='chol'>

sns.pairplot(data=hd,hue='num')
plt.show()

 
corr_matrix=hd.corr()
C:\Users\user\AppData\Local\Temp\ipykernel_5156\3561781943.py:1: FutureWarning: The default value of numeric_only in DataFrame.corr is deprecated. In a future version, it will default to False. Select only valid columns or specify the value of numeric_only to silence this warning.
  corr_matrix=hd.corr()
corr_matrix
age	trestbps	chol	fbs	thalch	exang	oldpeak	ca	num
age	1.000000	0.230784	-0.084490	0.219915	-0.352790	0.160910	0.211978	0.219413	0.339596
trestbps	0.230784	1.000000	0.089122	0.143709	-0.104259	0.153835	0.161365	0.039092	0.113178
chol	-0.084490	0.089122	1.000000	0.089719	0.226300	-0.031459	0.054179	0.155226	-0.228224
fbs	0.219915	0.143709	0.089719	1.000000	-0.029568	-0.003475	0.012731	0.061260	0.129539
thalch	-0.352790	-0.104259	0.226300	-0.029568	1.000000	-0.350646	-0.144088	0.039937	-0.350721
exang	0.160910	0.153835	-0.031459	-0.003475	-0.350646	1.000000	0.408454	0.037478	0.350567
oldpeak	0.211978	0.161365	0.054179	0.012731	-0.144088	0.408454	1.000000	0.225969	0.393327
ca	0.219413	0.039092	0.155226	0.061260	0.039937	0.037478	0.225969	1.000000	0.261797
num	0.339596	0.113178	-0.228224	0.129539	-0.350721	0.350567	0.393327	0.261797	1.000000
sns.heatmap(corr_matrix,annot=True)
<Axes: >

Encoding

from sklearn.preprocessing import LabelEncoder
le=LabelEncoder()
hd['sex']=le.fit_transform(hd['sex'])
hd['cp']=le.fit_transform(hd['cp'])
hd['fbs']=le.fit_transform(hd['fbs'])
hd['restecg']=le.fit_transform(hd['restecg'])
hd['exang']=le.fit_transform(hd['exang'])
hd['slope']=le.fit_transform(hd['slope'])
hd['thal']=le.fit_transform(hd['thal'])
hd.head()
age	sex	cp	trestbps	chol	fbs	restecg	thalch	exang	oldpeak	slope	ca	thal	num
0	63	1	3	145.0	233.0	1	0	150.0	0	2.3	0	0.0	0	0
1	67	1	0	160.0	286.0	0	0	108.0	1	1.5	1	3.0	1	2
2	67	1	0	120.0	229.0	0	0	129.0	1	2.6	1	2.0	2	1
3	37	1	2	130.0	250.0	0	1	187.0	0	3.5	0	0.0	1	0
4	41	0	1	130.0	204.0	0	0	172.0	0	1.4	2	0.0	1	0
Train test & Logistic Regression

from sklearn.model_selection import train_test_split
i=hd.iloc[:,0:12]
d=hd.num
x_train,x_test,y_train,y_test=train_test_split(i,d,test_size=0.1,random_state=2)
x_train
age	sex	cp	trestbps	chol	fbs	restecg	thalch	exang	oldpeak	slope	ca
866	59	1	0	140.0	274.0	0	1	154.0	1	2.0	1	0.0
146	57	1	0	165.0	289.0	1	0	124.0	0	1.0	1	3.0
258	70	1	1	156.0	245.0	0	0	143.0	0	0.0	2	0.0
782	57	1	0	130.0	311.0	0	2	148.0	1	2.0	1	0.0
595	58	0	1	180.0	393.0	0	1	110.0	1	1.0	1	0.0
...	...	...	...	...	...	...	...	...	...	...	...	...
534	46	1	0	120.0	231.0	0	1	115.0	1	0.0	1	0.0
584	44	1	0	135.0	491.0	0	1	135.0	0	0.0	1	0.0
493	34	1	3	140.0	156.0	0	1	180.0	0	0.0	1	0.0
527	65	1	0	140.0	306.0	1	1	87.0	1	1.5	1	0.0
168	35	1	0	126.0	282.0	0	0	156.0	1	0.0	2	0.0
828 rows × 12 columns

y_train
866    0
146    4
258    0
782    1
595    1
      ..
534    1
584    1
493    1
527    1
168    1
Name: num, Length: 828, dtype: int64
print(hd.shape,x_train.shape,x_test.shape)
(920, 14) (828, 12) (92, 12)
from sklearn.linear_model import LogisticRegression
lr=LogisticRegression()
lr.fit(x_train,y_train)
C:\Users\user\anaconda3\lib\site-packages\sklearn\linear_model\_logistic.py:458: ConvergenceWarning: lbfgs failed to converge (status=1):
STOP: TOTAL NO. of ITERATIONS REACHED LIMIT.

Increase the number of iterations (max_iter) or scale the data as shown in:
    https://scikit-learn.org/stable/modules/preprocessing.html
Please also refer to the documentation for alternative solver options:
    https://scikit-learn.org/stable/modules/linear_model.html#logistic-regression
  n_iter_i = _check_optimize_result(

LogisticRegression
LogisticRegression()
predicted_data=lr.predict(x_test)
y_test
440    0
382    0
568    1
230    0
471    0
      ..
645    2
896    4
101    0
257    0
904    0
Name: num, Length: 92, dtype: int64
x_pred=x_test.copy()
x_pred['Predicted_data']=predicted_data
x_pred['Actual data']=y_test
x_pred
age	sex	cp	trestbps	chol	fbs	restecg	thalch	exang	oldpeak	slope	ca	Predicted_data	Actual data
440	53	1	0	124.0	260.0	0	2	112.0	1	3.0	1	0.0	1	0
382	46	1	1	140.0	275.0	0	1	165.0	1	0.0	1	0.0	0	0
568	53	1	2	145.0	518.0	0	1	130.0	0	0.0	1	0.0	0	1
230	52	0	2	136.0	196.0	0	0	169.0	0	0.1	1	0.0	0	0
471	56	1	2	130.0	199.0	0	1	114.0	0	0.0	1	0.0	0	0
...	...	...	...	...	...	...	...	...	...	...	...	...	...	...
645	54	1	0	120.0	0.0	0	1	155.0	0	0.0	1	0.0	1	2
896	61	1	0	190.0	287.0	1	0	150.0	1	2.0	0	0.0	1	4
101	34	1	3	118.0	182.0	0	0	174.0	0	0.0	2	0.0	0	0
257	76	0	2	140.0	197.0	0	2	116.0	0	1.1	1	0.0	0	0
904	57	1	0	130.0	207.0	0	2	96.0	1	1.0	1	0.0	1	0
92 rows × 14 columns

from sklearn.metrics import accuracy_score
trained_data_accuracy=accuracy_score(predicted_data,y_test)
trained_data_accuracy
0.532608695652174
