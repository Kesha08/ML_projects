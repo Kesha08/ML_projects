{
 "cells": [
  {
   "cell_type": "code",
   "execution_count": null,
   "id": "2a7e0ac4",
   "metadata": {},
   "outputs": [],
   "source": [
    "import pandas as pd\n",
    "import numpy as np"
   ]
  },
  {
   "cell_type": "code",
   "execution_count": null,
   "id": "65fac562",
   "metadata": {},
   "outputs": [],
   "source": [
    "tele=pd.read_csv(\"telecom.csv\")"
   ]
  },
  {
   "cell_type": "code",
   "execution_count": null,
   "id": "7dbc88e7",
   "metadata": {},
   "outputs": [],
   "source": [
    "tele.info()"
   ]
  },
  {
   "cell_type": "code",
   "execution_count": null,
   "id": "e3b0c1bb",
   "metadata": {},
   "outputs": [],
   "source": [
    "tele.describe()"
   ]
  },
  {
   "cell_type": "code",
   "execution_count": null,
   "id": "63a595bf",
   "metadata": {},
   "outputs": [],
   "source": [
    "tele.isnull().sum()"
   ]
  },
  {
   "cell_type": "code",
   "execution_count": null,
   "id": "3f3a6a7c",
   "metadata": {
    "scrolled": true
   },
   "outputs": [],
   "source": [
    "tele=tele.drop(columns=['customer_id','state','pincode','date_of_registration'])"
   ]
  },
  {
   "cell_type": "code",
   "execution_count": null,
   "id": "6871b813",
   "metadata": {},
   "outputs": [],
   "source": [
    "tele.info()"
   ]
  },
  {
   "cell_type": "code",
   "execution_count": null,
   "id": "28061d0e",
   "metadata": {
    "scrolled": true
   },
   "outputs": [],
   "source": [
    "tele.head()"
   ]
  },
  {
   "cell_type": "code",
   "execution_count": null,
   "id": "f1dbf732",
   "metadata": {},
   "outputs": [],
   "source": [
    "grp_gender=tele.groupby(\"gender\").agg({'estimated_salary':'median',\n",
    "                                       'num_dependents':'mean',\n",
    "                                       'calls_made':'mean',\n",
    "                                       'sms_sent':'mean',\n",
    "                                       'data_used':'mean'})\n",
    "grp_gender"
   ]
  },
  {
   "cell_type": "code",
   "execution_count": null,
   "id": "332b4275",
   "metadata": {},
   "outputs": [],
   "source": [
    "tele.churn.value_counts()"
   ]
  },
  {
   "cell_type": "code",
   "execution_count": null,
   "id": "8638e46e",
   "metadata": {},
   "outputs": [],
   "source": [
    "tele.groupby(\"churn\").mean()"
   ]
  },
  {
   "cell_type": "code",
   "execution_count": null,
   "id": "9927068d",
   "metadata": {},
   "outputs": [],
   "source": [
    "tele.groupby(\"telecom_partner\").mean()"
   ]
  },
  {
   "cell_type": "code",
   "execution_count": null,
   "id": "330206b3",
   "metadata": {},
   "outputs": [],
   "source": [
    "tele.telecom_partner.value_counts()"
   ]
  },
  {
   "cell_type": "code",
   "execution_count": null,
   "id": "f8d9d913",
   "metadata": {},
   "outputs": [],
   "source": [
    "import seaborn as sns\n",
    "import matplotlib.pyplot as plt"
   ]
  },
  {
   "cell_type": "code",
   "execution_count": null,
   "id": "eeb71839",
   "metadata": {},
   "outputs": [],
   "source": [
    "aa=sns.scatterplot(data=tele,x='age',y='estimated_salary',hue='churn',palette='dark')"
   ]
  },
  {
   "cell_type": "code",
   "execution_count": null,
   "id": "507364ea",
   "metadata": {},
   "outputs": [],
   "source": [
    "aa"
   ]
  },
  {
   "cell_type": "code",
   "execution_count": null,
   "id": "79cc15da",
   "metadata": {},
   "outputs": [],
   "source": []
  },
  {
   "cell_type": "code",
   "execution_count": null,
   "id": "79c3acd5",
   "metadata": {},
   "outputs": [],
   "source": [
    "x=tele.telecom_partner\n",
    "y=tele.gender\n",
    "plt.bar(x,y)\n",
    "plt.xlabel(\"telecom_partner\")\n",
    "plt.ylabel(\"churn\")\n",
    "plt.title(\"telecom_partner vs churn\",fontfamily=\"Arial\",fontsize=22,color=\"r\")"
   ]
  },
  {
   "cell_type": "code",
   "execution_count": null,
   "id": "a15f33fc",
   "metadata": {},
   "outputs": [],
   "source": [
    "sns.countplot(x=\"telecom_partner\",data=tele)"
   ]
  },
  {
   "cell_type": "code",
   "execution_count": null,
   "id": "ef740e1e",
   "metadata": {},
   "outputs": [],
   "source": [
    "sns.lineplot(data=tele,x='age',y='churn')"
   ]
  },
  {
   "cell_type": "code",
   "execution_count": null,
   "id": "11a2e5a5",
   "metadata": {},
   "outputs": [],
   "source": [
    "from sklearn.preprocessing import LabelEncoder\n",
    "le=LabelEncoder()\n",
    "tele['telecom_partner']=le.fit_transform(tele['telecom_partner'])\n",
    "tele['gender']=le.fit_transform(tele['gender'])\n",
    "tele['city']=le.fit_transform(tele['city'])"
   ]
  },
  {
   "cell_type": "code",
   "execution_count": null,
   "id": "301fcc6e",
   "metadata": {},
   "outputs": [],
   "source": [
    "tele.head()"
   ]
  },
  {
   "cell_type": "code",
   "execution_count": null,
   "id": "24c518c5",
   "metadata": {},
   "outputs": [],
   "source": [
    "from sklearn.model_selection import train_test_split"
   ]
  },
  {
   "cell_type": "code",
   "execution_count": null,
   "id": "a1b607bb",
   "metadata": {},
   "outputs": [],
   "source": [
    "i=tele.iloc[:,0:8]\n",
    "d=tele.churn"
   ]
  },
  {
   "cell_type": "code",
   "execution_count": null,
   "id": "023d3101",
   "metadata": {},
   "outputs": [],
   "source": [
    "x_train,x_test,y_train,y_test=train_test_split(i,d,test_size=0.3,random_state=4)"
   ]
  },
  {
   "cell_type": "code",
   "execution_count": null,
   "id": "c1764420",
   "metadata": {},
   "outputs": [],
   "source": [
    "x_train"
   ]
  },
  {
   "cell_type": "code",
   "execution_count": null,
   "id": "4a14bc90",
   "metadata": {},
   "outputs": [],
   "source": [
    "y_train"
   ]
  },
  {
   "cell_type": "code",
   "execution_count": null,
   "id": "23c944c3",
   "metadata": {},
   "outputs": [],
   "source": [
    "print(tele.shape,x_train.shape,x_test.shape)"
   ]
  },
  {
   "cell_type": "code",
   "execution_count": null,
   "id": "0ea3f5f4",
   "metadata": {},
   "outputs": [],
   "source": [
    "from sklearn.linear_model import LogisticRegression\n",
    "lr=LogisticRegression()"
   ]
  },
  {
   "cell_type": "code",
   "execution_count": null,
   "id": "5266bf1c",
   "metadata": {},
   "outputs": [],
   "source": [
    "lr.fit(x_train,y_train)"
   ]
  },
  {
   "cell_type": "code",
   "execution_count": null,
   "id": "cc040379",
   "metadata": {},
   "outputs": [],
   "source": [
    "predicted_data=lr.predict(x_test)"
   ]
  },
  {
   "cell_type": "code",
   "execution_count": null,
   "id": "8d921551",
   "metadata": {},
   "outputs": [],
   "source": [
    "predicted_data"
   ]
  },
  {
   "cell_type": "code",
   "execution_count": null,
   "id": "a9bed773",
   "metadata": {},
   "outputs": [],
   "source": [
    "y_test"
   ]
  },
  {
   "cell_type": "code",
   "execution_count": null,
   "id": "50d25348",
   "metadata": {},
   "outputs": [],
   "source": [
    "x_pred=x_test.copy()\n",
    "x_pred['Predicted_Churn']=predicted_data\n",
    "x_pred['Actual_Churn']=y_test"
   ]
  },
  {
   "cell_type": "code",
   "execution_count": null,
   "id": "9bbac7ae",
   "metadata": {},
   "outputs": [],
   "source": [
    "x_pred"
   ]
  },
  {
   "cell_type": "code",
   "execution_count": null,
   "id": "e98f5f0a",
   "metadata": {},
   "outputs": [],
   "source": [
    "corr_matrix=tele.corr()"
   ]
  },
  {
   "cell_type": "code",
   "execution_count": null,
   "id": "6cce68f9",
   "metadata": {},
   "outputs": [],
   "source": [
    "corr_matrix"
   ]
  },
  {
   "cell_type": "code",
   "execution_count": null,
   "id": "615159dd",
   "metadata": {},
   "outputs": [],
   "source": [
    "sns.heatmap(corr_matrix,annot=True)"
   ]
  },
  {
   "cell_type": "code",
   "execution_count": null,
   "id": "f91f629f",
   "metadata": {},
   "outputs": [],
   "source": [
    "#pip install pandas_profiling"
   ]
  },
  {
   "cell_type": "code",
   "execution_count": null,
   "id": "8c317537",
   "metadata": {},
   "outputs": [],
   "source": [
    "#from pandas_profiling import ProfileReport\n",
    "#pr=ProfileReport(tele)\n",
    "#pr"
   ]
  }
 ],
 "metadata": {
  "kernelspec": {
   "display_name": "Python 3 (ipykernel)",
   "language": "python",
   "name": "python3"
  },
  "language_info": {
   "codemirror_mode": {
    "name": "ipython",
    "version": 3
   },
   "file_extension": ".py",
   "mimetype": "text/x-python",
   "name": "python",
   "nbconvert_exporter": "python",
   "pygments_lexer": "ipython3",
   "version": "3.10.9"
  }
 },
 "nbformat": 4,
 "nbformat_minor": 5
}
